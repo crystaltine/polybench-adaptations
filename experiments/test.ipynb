{
 "cells": [
  {
   "cell_type": "code",
   "execution_count": 7,
   "metadata": {},
   "outputs": [
    {
     "name": "stdout",
     "output_type": "stream",
     "text": [
      "[[0]\n",
      " [1]\n",
      " [2]]\n",
      "\n",
      "[[1 2 3]]\n",
      "\n",
      "[[1 1 1]\n",
      " [2 3 4]\n",
      " [3 5 7]]\n"
     ]
    }
   ],
   "source": [
    "import numpy as np\n",
    "\n",
    "size = 3\n",
    "A = np.arange(0, size)\n",
    "B = np.arange(1, size+1)\n",
    "\n",
    "print(A[:, None])\n",
    "print()\n",
    "print(B[None, :])\n",
    "print()\n",
    "print(A[:, None] * B[None, :] + 1)"
   ]
  },
  {
   "cell_type": "code",
   "execution_count": 14,
   "metadata": {},
   "outputs": [
    {
     "name": "stdout",
     "output_type": "stream",
     "text": [
      "tensor([1., 2., 3., 4.])\n"
     ]
    }
   ],
   "source": [
    "import torch\n",
    "\n",
    "tensor1 = torch.Tensor([\n",
    "    [1, 2, 3, 4],\n",
    "    [0, 2, 3, 4],\n",
    "    [0, 0, 3, 4],\n",
    "    [0, 0, 0, 4]\n",
    "])\n",
    "\n",
    "print(tensor1.diagonal())"
   ]
  },
  {
   "cell_type": "code",
   "execution_count": 4,
   "metadata": {},
   "outputs": [
    {
     "name": "stdout",
     "output_type": "stream",
     "text": [
      "tensor([[10.0000,  1.0000,  1.0000,  1.0000,  1.0000],\n",
      "        [ 1.0000, 10.0000,  1.8000,  1.8000,  1.8000],\n",
      "        [ 1.0000,  1.8000, 10.0000,  1.6000,  1.6000],\n",
      "        [ 1.0000,  1.8000,  1.6000, 10.0000,  1.4000],\n",
      "        [ 1.0000,  1.8000,  1.6000,  1.4000, 10.0000]], dtype=torch.float64)\n"
     ]
    }
   ],
   "source": [
    "import torch\n",
    "\n",
    "def init_array_fixed(n: int) -> torch.Tensor:\n",
    "    A = torch.zeros((n, n), dtype=torch.float64)\n",
    "    for i in range(n):\n",
    "        for j in range(i):\n",
    "            A[i, j] = (-j % n) / n + 1\n",
    "            A[j, i] = A[i, j]\n",
    "        A[i, i] = n*2\n",
    "        \n",
    "    return A\n",
    "\n",
    "print(init_array_fixed(5))"
   ]
  },
  {
   "cell_type": "code",
   "execution_count": 3,
   "metadata": {},
   "outputs": [
    {
     "name": "stdout",
     "output_type": "stream",
     "text": [
      "tensor([[2.0000, 1.0000, 1.0000, 1.0000, 1.0000, 1.0000],\n",
      "        [1.0000, 2.0000, 1.8333, 1.8333, 1.8333, 1.8333],\n",
      "        [1.0000, 1.8333, 2.0000, 1.6667, 1.6667, 1.6667],\n",
      "        [1.0000, 1.8333, 1.6667, 2.0000, 1.5000, 1.5000],\n",
      "        [1.0000, 1.8333, 1.6667, 1.5000, 2.0000, 1.3333],\n",
      "        [1.0000, 1.8333, 1.6667, 1.5000, 1.3333, 2.0000]], dtype=torch.float64)\n"
     ]
    }
   ],
   "source": [
    "import torch\n",
    "\n",
    "def init_array_fixed(n: int) -> torch.Tensor:\n",
    "    A = torch.zeros((n, n), dtype=torch.float64)\n",
    "    for i in range(n):\n",
    "        for j in range(i):\n",
    "            A[i, j] = (-j % n) / n + 1\n",
    "            A[j, i] = A[i, j]\n",
    "        A[i, i] = 2\n",
    "        \n",
    "    return A\n",
    "\n",
    "print(init_array_fixed(6))"
   ]
  },
  {
   "cell_type": "code",
   "execution_count": 3,
   "metadata": {},
   "outputs": [
    {
     "name": "stdout",
     "output_type": "stream",
     "text": [
      "tensor([1.0000, 2.8000])\n"
     ]
    }
   ],
   "source": [
    "import torch\n",
    "\n",
    "t1 = torch.Tensor([1.0, 1.8])\n",
    "t2 = torch.Tensor([[1., 0.], [1., 1.]])\n",
    "\n",
    "print(torch.mv(t2, t1))"
   ]
  },
  {
   "cell_type": "code",
   "execution_count": 16,
   "metadata": {},
   "outputs": [
    {
     "name": "stdout",
     "output_type": "stream",
     "text": [
      "tensor([[ 0.,  2.,  3.,  4.,  5.],\n",
      "        [ 6.,  0.,  8.,  9., 10.],\n",
      "        [11., 12.,  0., 14., 15.],\n",
      "        [16., 17., 18.,  0., 20.],\n",
      "        [21., 22., 23., 24.,  0.]])\n",
      "tensor([[ 5.6000,  4.0000,  9.0000],\n",
      "        [ 8.0000, 10.4000,  7.6000],\n",
      "        [17.0000, 11.6000, 15.2000]])\n"
     ]
    }
   ],
   "source": [
    "import torch\n",
    "\n",
    "tens1 = torch.arange(1, 26).reshape(5, 5).float()\n",
    "tens1[[0, 1, 2, 3, 4], [0, 1, 2, 3, 4]] = 0\n",
    "print(tens1)\n",
    "print(torch.nn.functional.conv2d(\n",
    "    input=tens1.unsqueeze(0).unsqueeze(0),\n",
    "    weight=torch.tensor([[[[0, 0.2, 0], [0.2, 0.2, 0.2], [0, 0.2, 0]]]])\n",
    ")[0,0])"
   ]
  },
  {
   "cell_type": "code",
   "execution_count": 2,
   "metadata": {},
   "outputs": [
    {
     "ename": "TypeError",
     "evalue": "copy_() received an invalid combination of arguments - got (), but expected (Tensor other, bool non_blocking)",
     "output_type": "error",
     "traceback": [
      "\u001b[1;31m---------------------------------------------------------------------------\u001b[0m",
      "\u001b[1;31mTypeError\u001b[0m                                 Traceback (most recent call last)",
      "Cell \u001b[1;32mIn[2], line 5\u001b[0m\n\u001b[0;32m      1\u001b[0m \u001b[39mimport\u001b[39;00m \u001b[39mtorch\u001b[39;00m\n\u001b[0;32m      3\u001b[0m tensor1 \u001b[39m=\u001b[39m torch\u001b[39m.\u001b[39mTensor([[\u001b[39m1\u001b[39m, \u001b[39m2\u001b[39m, \u001b[39m3\u001b[39m], [\u001b[39m4\u001b[39m, \u001b[39m5\u001b[39m, \u001b[39m6\u001b[39m], [\u001b[39m7\u001b[39m, \u001b[39m8\u001b[39m, \u001b[39m9\u001b[39m]])\n\u001b[1;32m----> 5\u001b[0m \u001b[39mprint\u001b[39m(tensor1\u001b[39m.\u001b[39;49mcopy_())\n",
      "\u001b[1;31mTypeError\u001b[0m: copy_() received an invalid combination of arguments - got (), but expected (Tensor other, bool non_blocking)"
     ]
    }
   ],
   "source": [
    "import torch\n",
    "\n",
    "tensor1 = torch.Tensor([[1, 2, 3], [4, 5, 6], [7, 8, 9]])\n",
    "\n",
    "print(tensor1.copy_())"
   ]
  },
  {
   "cell_type": "code",
   "execution_count": 4,
   "metadata": {},
   "outputs": [
    {
     "name": "stdout",
     "output_type": "stream",
     "text": [
      "False\n"
     ]
    }
   ],
   "source": [
    "tup1 = (1, 2)\n",
    "tup2 = (1, 3)\n",
    "\n",
    "print(tup1 == tup2)"
   ]
  },
  {
   "cell_type": "code",
   "execution_count": 3,
   "metadata": {},
   "outputs": [
    {
     "name": "stdout",
     "output_type": "stream",
     "text": [
      "tensor(2.0000)\n"
     ]
    }
   ],
   "source": [
    "import torch\n",
    "import torch.nn.functional as F\n",
    "\n",
    "t1 = torch.Tensor([\n",
    "    [1, 1, 1],\n",
    "    [1, 6, 1],\n",
    "    [1, 1, 1]\n",
    "])\n",
    "\n",
    "print(F.conv2d(\n",
    "    t1.unsqueeze(0).unsqueeze(0), \n",
    "    torch.Tensor([[[[0.0, 0.2, 0.0], [0.2, 0.2, 0.2], [0.0, 0.2, 0.0]]]])).squeeze())"
   ]
  },
  {
   "cell_type": "code",
   "execution_count": 1,
   "metadata": {},
   "outputs": [
    {
     "ename": "RuntimeError",
     "evalue": "expected stride to be a single integer value or a list of 2 values to match the convolution dimensions, but got stride=[1, 1, 1]",
     "output_type": "error",
     "traceback": [
      "\u001b[1;31m---------------------------------------------------------------------------\u001b[0m",
      "\u001b[1;31mRuntimeError\u001b[0m                              Traceback (most recent call last)",
      "Cell \u001b[1;32mIn[1], line 40\u001b[0m\n\u001b[0;32m     17\u001b[0m A \u001b[39m=\u001b[39m torch\u001b[39m.\u001b[39mtensor([\n\u001b[0;32m     18\u001b[0m     [[ \u001b[39m1\u001b[39m,  \u001b[39m2\u001b[39m,  \u001b[39m3\u001b[39m,  \u001b[39m4\u001b[39m],\n\u001b[0;32m     19\u001b[0m      [ \u001b[39m5\u001b[39m,  \u001b[39m6\u001b[39m,  \u001b[39m7\u001b[39m,  \u001b[39m8\u001b[39m],\n\u001b[1;32m   (...)\u001b[0m\n\u001b[0;32m     36\u001b[0m      [\u001b[39m61\u001b[39m, \u001b[39m62\u001b[39m, \u001b[39m63\u001b[39m, \u001b[39m64\u001b[39m]],\n\u001b[0;32m     37\u001b[0m ], dtype\u001b[39m=\u001b[39mtorch\u001b[39m.\u001b[39mfloat32)\n\u001b[0;32m     39\u001b[0m \u001b[39m# Perform the 3D convolution\u001b[39;00m\n\u001b[1;32m---> 40\u001b[0m result \u001b[39m=\u001b[39m kernel_conv_3d(A)\n\u001b[0;32m     42\u001b[0m \u001b[39mprint\u001b[39m(\u001b[39m\"\u001b[39m\u001b[39mInput 3D tensor (A):\u001b[39m\u001b[39m\"\u001b[39m)\n\u001b[0;32m     43\u001b[0m \u001b[39mprint\u001b[39m(A)\n",
      "Cell \u001b[1;32mIn[1], line 10\u001b[0m, in \u001b[0;36mkernel_conv_3d\u001b[1;34m(A)\u001b[0m\n\u001b[0;32m      5\u001b[0m kernel \u001b[39m=\u001b[39m torch\u001b[39m.\u001b[39mtensor([\n\u001b[0;32m      6\u001b[0m     [[\u001b[39m2\u001b[39m, \u001b[39m4\u001b[39m, \u001b[39m5\u001b[39m, \u001b[39m7\u001b[39m, \u001b[39m-\u001b[39m\u001b[39m8\u001b[39m, \u001b[39m10\u001b[39m, \u001b[39m-\u001b[39m\u001b[39m3\u001b[39m, \u001b[39m6\u001b[39m, \u001b[39m-\u001b[39m\u001b[39m9\u001b[39m, \u001b[39m2\u001b[39m, \u001b[39m4\u001b[39m, \u001b[39m5\u001b[39m, \u001b[39m7\u001b[39m, \u001b[39m-\u001b[39m\u001b[39m8\u001b[39m, \u001b[39m10\u001b[39m]]\n\u001b[0;32m      7\u001b[0m ], dtype\u001b[39m=\u001b[39mA\u001b[39m.\u001b[39mdtype)\n\u001b[0;32m      9\u001b[0m \u001b[39m# Perform the convolution using PyTorch's F.conv3d function\u001b[39;00m\n\u001b[1;32m---> 10\u001b[0m B \u001b[39m=\u001b[39m torch\u001b[39m.\u001b[39;49mnn\u001b[39m.\u001b[39;49mfunctional\u001b[39m.\u001b[39;49mconv3d(A\u001b[39m.\u001b[39;49munsqueeze(\u001b[39m0\u001b[39;49m), kernel\u001b[39m.\u001b[39;49munsqueeze(\u001b[39m0\u001b[39;49m))\u001b[39m.\u001b[39msqueeze()\n\u001b[0;32m     12\u001b[0m \u001b[39mreturn\u001b[39;00m B\n",
      "\u001b[1;31mRuntimeError\u001b[0m: expected stride to be a single integer value or a list of 2 values to match the convolution dimensions, but got stride=[1, 1, 1]"
     ]
    }
   ],
   "source": [
    "import torch\n",
    "\n",
    "def kernel_conv_3d(A):\n",
    "    # Define the convolution kernel\n",
    "    kernel = torch.tensor([\n",
    "        [[2, 4, 5, 7, -8, 10, -3, 6, -9, 2, 4, 5, 7, -8, 10]]\n",
    "    ], dtype=A.dtype)\n",
    "\n",
    "    # Perform the convolution using PyTorch's F.conv3d function\n",
    "    B = torch.nn.functional.conv3d(A.unsqueeze(0), kernel.unsqueeze(0)).squeeze()\n",
    "\n",
    "    return B\n",
    "\n",
    "# Example usage:\n",
    "if __name__ == \"__main__\":\n",
    "    # Create a sample 3D tensor (4x4x4) for illustration\n",
    "    A = torch.tensor([\n",
    "        [[ 1,  2,  3,  4],\n",
    "         [ 5,  6,  7,  8],\n",
    "         [ 9, 10, 11, 12],\n",
    "         [13, 14, 15, 16]],\n",
    "\n",
    "        [[17, 18, 19, 20],\n",
    "         [21, 22, 23, 24],\n",
    "         [25, 26, 27, 28],\n",
    "         [29, 30, 31, 32]],\n",
    "\n",
    "        [[33, 34, 35, 36],\n",
    "         [37, 38, 39, 40],\n",
    "         [41, 42, 43, 44],\n",
    "         [45, 46, 47, 48]],\n",
    "\n",
    "        [[49, 50, 51, 52],\n",
    "         [53, 54, 55, 56],\n",
    "         [57, 58, 59, 60],\n",
    "         [61, 62, 63, 64]],\n",
    "    ], dtype=torch.float32)\n",
    "\n",
    "    # Perform the 3D convolution\n",
    "    result = kernel_conv_3d(A)\n",
    "\n",
    "    print(\"Input 3D tensor (A):\")\n",
    "    print(A)\n",
    "\n",
    "    print(\"\\nOutput 3D tensor (B):\")\n",
    "    print(result)\n"
   ]
  }
 ],
 "metadata": {
  "kernelspec": {
   "display_name": "Python 3",
   "language": "python",
   "name": "python3"
  },
  "language_info": {
   "codemirror_mode": {
    "name": "ipython",
    "version": 3
   },
   "file_extension": ".py",
   "mimetype": "text/x-python",
   "name": "python",
   "nbconvert_exporter": "python",
   "pygments_lexer": "ipython3",
   "version": "3.11.3"
  },
  "orig_nbformat": 4
 },
 "nbformat": 4,
 "nbformat_minor": 2
}
